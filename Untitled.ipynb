{
 "cells": [
  {
   "cell_type": "code",
   "execution_count": null,
   "id": "c9cf7198-0891-4d1a-b31a-d960d95344eb",
   "metadata": {},
   "outputs": [],
   "source": [
    "%matplotlib inline\n",
    "\n",
    "import pandas as pd\n",
    "import matplotlib.pyplot as plt\n",
    "\n",
    "plt.style.use('ggplot')  \n",
    "plt.rcParams['figure.figsize'] = (15, 5)  \n",
    "#plt.ion( ) ИНТЕРАКТИВ\n",
    "#beta.xlsx\n",
    "print('Введите название файла для создания отчета')\n",
    "file=input()\n",
    "\n",
    "print('Введите название страницы в файле '+ file +' для создания отчета')\n",
    "list1 = input()\n",
    "\n",
    "func = input('Вот что я могу с этим сделать:\\n 1. Вывести общий отчет с файла.\\n 2. Вывести отчет по артикулу. \\n 3. Вывести топ 5 товаров\\nПросто напиши нужную функцию : ')\n",
    "\n",
    "if func == '1':\n",
    "    df_otchet = pd.read_excel(file, sheet_name=list1)\n",
    "    df_otchet.plot(x = 'код',y=['заказ/трафик','желание заказ/трафик','рез-ты акции'],kind='bar').set_title('traffic from the '+list1)\n",
    "    plt.show\n",
    "    \n",
    "elif func == '2':\n",
    "    print('В разработке 2')\n",
    "    \n",
    "elif func == '3':\n",
    "    print('В разработке 3')\n",
    "    \n",
    "else:\n",
    "    print('У меня такой функции нет')"
   ]
  }
 ],
 "metadata": {
  "kernelspec": {
   "display_name": "Python 3",
   "language": "python",
   "name": "python3"
  },
  "language_info": {
   "codemirror_mode": {
    "name": "ipython",
    "version": 3
   },
   "file_extension": ".py",
   "mimetype": "text/x-python",
   "name": "python",
   "nbconvert_exporter": "python",
   "pygments_lexer": "ipython3",
   "version": "3.8.8"
  }
 },
 "nbformat": 4,
 "nbformat_minor": 5
}
